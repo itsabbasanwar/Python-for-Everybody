{
 "cells": [
  {
   "cell_type": "code",
   "execution_count": 3,
   "id": "061362e5-0b26-4479-9b8e-a0bb8f13d95e",
   "metadata": {},
   "outputs": [
    {
     "name": "stdout",
     "output_type": "stream",
     "text": [
      "Welcome to the Simple Calculator!\n",
      "Options: +, -, *, /\n"
     ]
    },
    {
     "name": "stdin",
     "output_type": "stream",
     "text": [
      "Enter the first number:  20\n",
      "Enter the operation (+, -, *, /):  +\n",
      "Enter the second number:  20\n"
     ]
    },
    {
     "name": "stdout",
     "output_type": "stream",
     "text": [
      "Result: 40.0\n"
     ]
    }
   ],
   "source": [
    "def calculator():\n",
    "    print(\"Welcome to the Simple Calculator!\")\n",
    "    print(\"Options: +, -, *, /\")\n",
    "    try:\n",
    "        num1 = float(input(\"Enter the first number: \"))\n",
    "        operator = input(\"Enter the operation (+, -, *, /): \")\n",
    "        num2 = float(input(\"Enter the second number: \"))\n",
    "\n",
    "        if operator == \"+\":\n",
    "            print(\"Result:\", num1 + num2)\n",
    "        elif operator == \"-\":\n",
    "            print(\"Result:\", num1 - num2)\n",
    "        elif operator == \"*\":\n",
    "            print(\"Result:\", num1 * num2)\n",
    "        elif operator == \"/\":\n",
    "            if num2 != 0:\n",
    "                print(\"Result:\", num1 / num2)\n",
    "            else:\n",
    "                print(\"Error: Division by zero.\")\n",
    "        else:\n",
    "            print(\"Invalid operator!\")\n",
    "    except ValueError:\n",
    "        print(\"Invalid input! Please enter numbers only.\")\n",
    "\n",
    "calculator()\n"
   ]
  },
  {
   "cell_type": "code",
   "execution_count": null,
   "id": "47dba41b-a6c4-4cc0-b0e9-03b0f8bd08c7",
   "metadata": {},
   "outputs": [],
   "source": []
  },
  {
   "cell_type": "code",
   "execution_count": null,
   "id": "b665cbdb-6c34-45e2-8816-6e2158c75dff",
   "metadata": {},
   "outputs": [],
   "source": []
  }
 ],
 "metadata": {
  "kernelspec": {
   "display_name": "Python 3 (ipykernel)",
   "language": "python",
   "name": "python3"
  },
  "language_info": {
   "codemirror_mode": {
    "name": "ipython",
    "version": 3
   },
   "file_extension": ".py",
   "mimetype": "text/x-python",
   "name": "python",
   "nbconvert_exporter": "python",
   "pygments_lexer": "ipython3",
   "version": "3.11.7"
  }
 },
 "nbformat": 4,
 "nbformat_minor": 5
}
