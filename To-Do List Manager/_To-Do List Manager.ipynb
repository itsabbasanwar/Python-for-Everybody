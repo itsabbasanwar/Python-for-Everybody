{
 "cells": [
  {
   "cell_type": "code",
   "execution_count": 1,
   "id": "b5c058af-7daf-4088-9be5-f534631baedf",
   "metadata": {},
   "outputs": [
    {
     "name": "stdout",
     "output_type": "stream",
     "text": [
      "\n",
      "Options: 1. Add Task  2. Delete Task  3. View Tasks  4. Quit\n"
     ]
    },
    {
     "name": "stdin",
     "output_type": "stream",
     "text": [
      "Enter your choice:  1\n",
      "Enter the task:  Reading\n"
     ]
    },
    {
     "name": "stdout",
     "output_type": "stream",
     "text": [
      "'Reading' added to the list.\n",
      "\n",
      "Options: 1. Add Task  2. Delete Task  3. View Tasks  4. Quit\n"
     ]
    },
    {
     "name": "stdin",
     "output_type": "stream",
     "text": [
      "Enter your choice:  3\n"
     ]
    },
    {
     "name": "stdout",
     "output_type": "stream",
     "text": [
      "\n",
      "Your To-Do List:\n",
      "1. Reading\n",
      "\n",
      "\n",
      "Options: 1. Add Task  2. Delete Task  3. View Tasks  4. Quit\n"
     ]
    },
    {
     "name": "stdin",
     "output_type": "stream",
     "text": [
      "Enter your choice:  1\n",
      "Enter the task:  Python Programming\n"
     ]
    },
    {
     "name": "stdout",
     "output_type": "stream",
     "text": [
      "'Python Programming' added to the list.\n",
      "\n",
      "Options: 1. Add Task  2. Delete Task  3. View Tasks  4. Quit\n"
     ]
    },
    {
     "name": "stdin",
     "output_type": "stream",
     "text": [
      "Enter your choice:  2\n"
     ]
    },
    {
     "name": "stdout",
     "output_type": "stream",
     "text": [
      "\n",
      "Your To-Do List:\n",
      "1. Reading\n",
      "2. Python Programming\n",
      "\n"
     ]
    },
    {
     "name": "stdin",
     "output_type": "stream",
     "text": [
      "Enter the task number to delete:  1\n"
     ]
    },
    {
     "name": "stdout",
     "output_type": "stream",
     "text": [
      "'Reading' removed from the list.\n",
      "\n",
      "Options: 1. Add Task  2. Delete Task  3. View Tasks  4. Quit\n"
     ]
    },
    {
     "name": "stdin",
     "output_type": "stream",
     "text": [
      "Enter your choice:  3\n"
     ]
    },
    {
     "name": "stdout",
     "output_type": "stream",
     "text": [
      "\n",
      "Your To-Do List:\n",
      "1. Python Programming\n",
      "\n",
      "\n",
      "Options: 1. Add Task  2. Delete Task  3. View Tasks  4. Quit\n"
     ]
    },
    {
     "name": "stdin",
     "output_type": "stream",
     "text": [
      "Enter your choice:  4\n"
     ]
    },
    {
     "name": "stdout",
     "output_type": "stream",
     "text": [
      "Goodbye!\n"
     ]
    }
   ],
   "source": [
    "tasks = []\n",
    "\n",
    "def show_tasks():\n",
    "    print(\"\\nYour To-Do List:\")\n",
    "    for i, task in enumerate(tasks, 1):\n",
    "        print(f\"{i}. {task}\")\n",
    "    print()\n",
    "\n",
    "def add_task():\n",
    "    task = input(\"Enter the task: \")\n",
    "    tasks.append(task)\n",
    "    print(f\"'{task}' added to the list.\")\n",
    "\n",
    "def delete_task():\n",
    "    show_tasks()\n",
    "    try:\n",
    "        index = int(input(\"Enter the task number to delete: \")) - 1\n",
    "        if 0 <= index < len(tasks):\n",
    "            removed_task = tasks.pop(index)\n",
    "            print(f\"'{removed_task}' removed from the list.\")\n",
    "        else:\n",
    "            print(\"Invalid task number!\")\n",
    "    except ValueError:\n",
    "        print(\"Invalid input!\")\n",
    "\n",
    "while True:\n",
    "    print(\"\\nOptions: 1. Add Task  2. Delete Task  3. View Tasks  4. Quit\")\n",
    "    choice = input(\"Enter your choice: \")\n",
    "\n",
    "    if choice == \"1\":\n",
    "        add_task()\n",
    "    elif choice == \"2\":\n",
    "        delete_task()\n",
    "    elif choice == \"3\":\n",
    "        show_tasks()\n",
    "    elif choice == \"4\":\n",
    "        print(\"Goodbye!\")\n",
    "        break\n",
    "    else:\n",
    "        print(\"Invalid option! Please try again.\")\n"
   ]
  },
  {
   "cell_type": "code",
   "execution_count": null,
   "id": "0035ec39-dea7-437c-a562-aa8be3505794",
   "metadata": {},
   "outputs": [],
   "source": []
  }
 ],
 "metadata": {
  "kernelspec": {
   "display_name": "Python 3 (ipykernel)",
   "language": "python",
   "name": "python3"
  },
  "language_info": {
   "codemirror_mode": {
    "name": "ipython",
    "version": 3
   },
   "file_extension": ".py",
   "mimetype": "text/x-python",
   "name": "python",
   "nbconvert_exporter": "python",
   "pygments_lexer": "ipython3",
   "version": "3.11.7"
  }
 },
 "nbformat": 4,
 "nbformat_minor": 5
}
